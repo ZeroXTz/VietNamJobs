{
 "cells": [
  {
   "attachments": {},
   "cell_type": "markdown",
   "metadata": {},
   "source": [
    "<h3> <b><u>Process 1</u>: Data Collection <i> (Thu thập dữ liệu) </i></b> </h3>\n",
    "<hr/>"
   ]
  },
  {
   "attachments": {},
   "cell_type": "markdown",
   "metadata": {},
   "source": [
    "<h4> <b>Install & Import</b> </h4>\n",
    "Install & Import the necessary libraries for data collection.<br>\n",
    "<i>Cài đặt và  sử dụng các thư viện cần thiết cho việc thu thập dữ liệu </i>"
   ]
  },
  {
   "cell_type": "code",
   "execution_count": 1,
   "metadata": {},
   "outputs": [
    {
     "name": "stdout",
     "output_type": "stream",
     "text": [
      "Requirement already satisfied: tqdm in c:\\python\\python39\\lib\\site-packages (4.64.1)\n",
      "Requirement already satisfied: colorama in c:\\users\\admin\\appdata\\roaming\\python\\python39\\site-packages (from tqdm) (0.4.4)\n"
     ]
    },
    {
     "name": "stderr",
     "output_type": "stream",
     "text": [
      "\n",
      "[notice] A new release of pip available: 22.3.1 -> 23.0.1\n",
      "[notice] To update, run: python.exe -m pip install --upgrade pip\n"
     ]
    }
   ],
   "source": [
    "#Install libraries\n",
    "!pip install tqdm"
   ]
  },
  {
   "cell_type": "code",
   "execution_count": 3,
   "metadata": {},
   "outputs": [
    {
     "name": "stderr",
     "output_type": "stream",
     "text": [
      "c:\\Python\\Python39\\lib\\site-packages\\requests\\__init__.py:102: RequestsDependencyWarning: urllib3 (1.26.7) or chardet (5.0.0)/charset_normalizer (2.0.8) doesn't match a supported version!\n",
      "  warnings.warn(\"urllib3 ({}) or chardet ({})/charset_normalizer ({}) doesn't match a supported \"\n"
     ]
    }
   ],
   "source": [
    "#Import libraries\n",
    "import requests\n",
    "import pandas as pd\n",
    "import time\n",
    "from tqdm import tqdm"
   ]
  },
  {
   "attachments": {},
   "cell_type": "markdown",
   "metadata": {},
   "source": [
    "<hr/>\n",
    "<h4><b>Collect Data</b></h4>"
   ]
  },
  {
   "attachments": {},
   "cell_type": "markdown",
   "metadata": {},
   "source": [
    "<h5><u>Lý do chọn Requests: </u></h5>\n",
    "Khi inspect trang web này, mình đã nhận thấy nên sử dụng requests vì vietnamworks đã cung cấp thông tin đã gần như đầy đủ cho việc xử lý nên không cần thiết phải sử dụng các thư viện khác. Và có thể một ngày nào đó, mình sẽ dành riêng các repositories để nói về các thư viện crawl data khác như scrapy, selenium. "
   ]
  },
  {
   "cell_type": "code",
   "execution_count": 4,
   "metadata": {},
   "outputs": [],
   "source": [
    "# Payload và header của trang web cần crawl\n",
    "payload = {\"query\":\"\",\"filter\":[],\"ranges\":[],\"order\":[],\"hitsPerPage\":50,\"page\":0,\"retrieveFields\":[\"benefits\",\"jobTitle\",\"salaryMax\",\"isSalaryVisible\",\"jobLevelVI\",\"isShowLogo\",\"salaryMin\",\"companyLogo\",\"userId\",\"jobLevel\",\"jobId\",\"companyId\",\"approvedOn\",\"isAnonymous\",\"alias\",\"expiredOn\",\"industries\",\"workingLocations\",\"services\",\"companyName\",\"salary\",\"onlineOn\",\"simpleServices\",\"visibilityDisplay\",\"isShowLogoInSearch\",\"priorityOrder\",\"skills\",\"profilePublishedSiteMask\"]}\n",
    "headers = {\n",
    "    'Accept': '*/*',\n",
    "    'Accept-Language': 'en-US,en;q=0.9',\n",
    "    'User-Agent': 'Mozilla/5.0 (Windows NT 10.0; Win64; x64) AppleWebKit/537.36 (KHTML, like Gecko) Chrome/110.0.0.0 Safari/537.36',\n",
    "    'X-Source': 'Page-Container'\n",
    "}"
   ]
  },
  {
   "cell_type": "code",
   "execution_count": 22,
   "metadata": {},
   "outputs": [],
   "source": [
    "# Thực hiện lấy data\n",
    "def parser_job(json):\n",
    "    d = dict()\n",
    "    d['jobId'] = json.get('jobId')\n",
    "    d['jobTitle'] = json.get('jobTitle')\n",
    "    d['companyId'] = json.get('companyId')\n",
    "    d['companyName'] = json.get('companyName')\n",
    "    d['industries'] = json.get('industries')\n",
    "    d['skills'] = []\n",
    "    for skill in json.get('skills'):\n",
    "        d['skills'].append(skill.get('skillName'))\n",
    "    return d\n",
    "    "
   ]
  },
  {
   "cell_type": "code",
   "execution_count": 23,
   "metadata": {},
   "outputs": [
    {
     "name": "stderr",
     "output_type": "stream",
     "text": [
      "100%|██████████| 1/1 [00:00<00:00,  8.12it/s]"
     ]
    },
    {
     "name": "stdout",
     "output_type": "stream",
     "text": [
      "Request page 1 success!!!\n"
     ]
    },
    {
     "name": "stderr",
     "output_type": "stream",
     "text": [
      "\n"
     ]
    }
   ],
   "source": [
    "# Ta lấy tổng số trang crawl là 100, với mỗi trang sẽ có 100 công việc. Mình đã thay đổi offset của chúng lên 100 thay vì 50\n",
    "# công việc mỗi trang). Vậy ta sẽ crawl được 2000 công việc \n",
    "total_pages = 100\n",
    "offset = 100\n",
    "payload['hitsPerPage'] = offset\n",
    "result = []\n",
    "endpoint = 'https://ms.vietnamworks.com/job-search/v1.0/search'\n",
    "for i in tqdm(range(0,1)):\n",
    "    payload['page'] = i\n",
    "    response = requests.post(endpoint,json = payload,headers = headers)\n",
    "    if response.status_code == 200:\n",
    "        print('Request page {} success!!!'.format(i+1)) \n",
    "        for raw_data in response.json().get('data'):\n",
    "            #Test.csv: Mình kiếm tra xem data có về chính xác không. \n",
    "            #result.append({'jobId': raw_data.get('jobId')})\n",
    "            result.append(parser_job(raw_data))\n",
    "\n",
    "df = pd.DataFrame(result)\n",
    "df.to_csv('test.csv',index=False)    "
   ]
  }
 ],
 "metadata": {
  "kernelspec": {
   "display_name": "Python 3",
   "language": "python",
   "name": "python3"
  },
  "language_info": {
   "codemirror_mode": {
    "name": "ipython",
    "version": 3
   },
   "file_extension": ".py",
   "mimetype": "text/x-python",
   "name": "python",
   "nbconvert_exporter": "python",
   "pygments_lexer": "ipython3",
   "version": "3.9.0"
  },
  "orig_nbformat": 4,
  "vscode": {
   "interpreter": {
    "hash": "25034407fed5d681614dac11a1c0537e8cb49e3a8883c071303eea01322943d9"
   }
  }
 },
 "nbformat": 4,
 "nbformat_minor": 2
}
